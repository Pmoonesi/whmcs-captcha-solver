{
  "cells": [
    {
      "cell_type": "markdown",
      "metadata": {
        "id": "fIDAF5_tF1o8"
      },
      "source": [
        "# CaptchaCracker\n",
        "[repo](https://github.com/WooilJeong/CaptchaCracker)"
      ]
    },
    {
      "cell_type": "code",
      "execution_count": null,
      "metadata": {
        "colab": {
          "base_uri": "https://localhost:8080/"
        },
        "id": "10nNQOG6F4nw",
        "outputId": "6a4c6621-bd58-4590-ff9c-9a485dd70f27"
      },
      "outputs": [
        {
          "name": "stdout",
          "output_type": "stream",
          "text": [
            "Collecting CaptchaCracker\n",
            "  Downloading CaptchaCracker-0.0.7-py3-none-any.whl (7.3 kB)\n",
            "Installing collected packages: CaptchaCracker\n",
            "Successfully installed CaptchaCracker-0.0.7\n"
          ]
        }
      ],
      "source": [
        "!pip install CaptchaCracker"
      ]
    },
    {
      "cell_type": "code",
      "execution_count": null,
      "metadata": {
        "colab": {
          "background_save": true
        },
        "id": "_Ur8pJBYF-IX"
      },
      "outputs": [],
      "source": [
        "!pip install numpy==1.19.5"
      ]
    },
    {
      "cell_type": "markdown",
      "metadata": {
        "id": "gFOs5qM9-36w"
      },
      "source": [
        "## create the datasets"
      ]
    },
    {
      "cell_type": "code",
      "execution_count": null,
      "metadata": {
        "colab": {
          "base_uri": "https://localhost:8080/"
        },
        "id": "W3nUhlTy_ADe",
        "outputId": "b4c06bed-6e2a-4a54-a50d-d14aa44f8009"
      },
      "outputs": [
        {
          "name": "stdout",
          "output_type": "stream",
          "text": [
            "Mounted at /content/drive\n"
          ]
        }
      ],
      "source": [
        "from google.colab import drive\n",
        "drive.mount('/content/drive')"
      ]
    },
    {
      "cell_type": "code",
      "execution_count": null,
      "metadata": {
        "colab": {
          "base_uri": "https://localhost:8080/"
        },
        "id": "AbtLy2Qs-7eB",
        "outputId": "c6b0cdfa-36d7-4923-8545-3ce74df6c2be"
      },
      "outputs": [
        {
          "name": "stdout",
          "output_type": "stream",
          "text": [
            "Reading package lists... Done\n",
            "Building dependency tree... Done\n",
            "Reading state information... Done\n",
            "php is already the newest version (2:8.1+92ubuntu1).\n",
            "0 upgraded, 0 newly installed, 0 to remove and 16 not upgraded.\n"
          ]
        }
      ],
      "source": [
        "!sudo apt install php"
      ]
    },
    {
      "cell_type": "code",
      "execution_count": null,
      "metadata": {
        "id": "Sk68e3RNG1Kx"
      },
      "outputs": [],
      "source": [
        "!sudo apt-get install php8.1-gd"
      ]
    },
    {
      "cell_type": "code",
      "execution_count": null,
      "metadata": {
        "id": "wbpgAzERI2hM"
      },
      "outputs": [],
      "source": [
        "!mkdir train_dataset # repeat for test_dataset"
      ]
    },
    {
      "cell_type": "code",
      "execution_count": null,
      "metadata": {
        "id": "5903ZfqIGAHY"
      },
      "outputs": [],
      "source": [
        "!php captcha.php"
      ]
    },
    {
      "cell_type": "code",
      "execution_count": null,
      "metadata": {
        "colab": {
          "base_uri": "https://localhost:8080/"
        },
        "id": "uCi9MnczH59w",
        "outputId": "f7eecf89-ecee-4418-8fff-eeb55c751adc"
      },
      "outputs": [
        {
          "name": "stdout",
          "output_type": "stream",
          "text": [
            "29989\n"
          ]
        }
      ],
      "source": [
        "!ls -1 train_dataset | wc -l"
      ]
    },
    {
      "cell_type": "markdown",
      "metadata": {
        "id": "KGlAAsDuIWe_"
      },
      "source": [
        "## create the model and train it"
      ]
    },
    {
      "cell_type": "code",
      "execution_count": null,
      "metadata": {
        "colab": {
          "base_uri": "https://localhost:8080/"
        },
        "id": "EU8rE9iiIaO0",
        "outputId": "d835222c-6cc6-4d11-d298-d08c55ac4d96"
      },
      "outputs": [
        {
          "name": "stderr",
          "output_type": "stream",
          "text": [
            "/usr/local/lib/python3.10/dist-packages/numpy/core/numeric.py:2463: FutureWarning: elementwise comparison failed; returning scalar instead, but in the future will perform elementwise comparison\n",
            "  return bool(asarray(a1 == a2).all())\n"
          ]
        },
        {
          "name": "stdout",
          "output_type": "stream",
          "text": [
            "Epoch 1/20\n",
            "1687/1687 [==============================] - 62s 32ms/step - loss: 18.1068 - val_loss: 17.6562\n",
            "Epoch 2/20\n",
            "1687/1687 [==============================] - 52s 31ms/step - loss: 17.5013 - val_loss: 15.7840\n",
            "Epoch 3/20\n",
            "1687/1687 [==============================] - 54s 32ms/step - loss: 13.1678 - val_loss: 10.2603\n",
            "Epoch 4/20\n",
            "1687/1687 [==============================] - 54s 32ms/step - loss: 9.3198 - val_loss: 7.4371\n",
            "Epoch 5/20\n",
            "1687/1687 [==============================] - 51s 31ms/step - loss: 7.4284 - val_loss: 5.6765\n",
            "Epoch 6/20\n",
            "1687/1687 [==============================] - 54s 32ms/step - loss: 5.7716 - val_loss: 4.2627\n",
            "Epoch 7/20\n",
            "1687/1687 [==============================] - 52s 31ms/step - loss: 4.5775 - val_loss: 3.3764\n",
            "Epoch 8/20\n",
            "1687/1687 [==============================] - 50s 30ms/step - loss: 3.6197 - val_loss: 2.4379\n",
            "Epoch 9/20\n",
            "1687/1687 [==============================] - 52s 31ms/step - loss: 2.8950 - val_loss: 1.9305\n",
            "Epoch 10/20\n",
            "1687/1687 [==============================] - 54s 32ms/step - loss: 2.1973 - val_loss: 1.0987\n",
            "Epoch 11/20\n",
            "1687/1687 [==============================] - 50s 30ms/step - loss: 1.4717 - val_loss: 0.7656\n",
            "Epoch 12/20\n",
            "1687/1687 [==============================] - 52s 31ms/step - loss: 1.0464 - val_loss: 0.4659\n",
            "Epoch 13/20\n",
            "1687/1687 [==============================] - 54s 32ms/step - loss: 0.7934 - val_loss: 0.3118\n",
            "Epoch 14/20\n",
            "1687/1687 [==============================] - 52s 31ms/step - loss: 0.6374 - val_loss: 0.3061\n",
            "Epoch 15/20\n",
            "1687/1687 [==============================] - 52s 31ms/step - loss: 0.5262 - val_loss: 0.1667\n",
            "Epoch 16/20\n",
            "1687/1687 [==============================] - 50s 30ms/step - loss: 0.4401 - val_loss: 0.2143\n",
            "Epoch 17/20\n",
            "1687/1687 [==============================] - 53s 32ms/step - loss: 0.3729 - val_loss: 0.0821\n",
            "Epoch 18/20\n",
            "1687/1687 [==============================] - 53s 32ms/step - loss: 0.3224 - val_loss: 0.0433\n",
            "Epoch 19/20\n",
            "1687/1687 [==============================] - 52s 31ms/step - loss: 0.2630 - val_loss: 0.0661\n",
            "Epoch 20/20\n",
            "1687/1687 [==============================] - 53s 31ms/step - loss: 0.2288 - val_loss: 0.0602\n"
          ]
        }
      ],
      "source": [
        "import glob\n",
        "import CaptchaCracker as cc\n",
        "\n",
        "# Training image data path\n",
        "train_img_path_list = glob.glob(\"./train_dataset/*.png\")\n",
        "\n",
        "# Training image data size\n",
        "img_width = 100\n",
        "img_height = 24\n",
        "\n",
        "# Creating an instance that creates a model\n",
        "CM = cc.CreateModel(train_img_path_list, img_width, img_height)\n",
        "\n",
        "# Performing model training\n",
        "model = CM.train_model(epochs=20)\n",
        "\n",
        "# Saving the weights learned by the model to a file\n",
        "model.save_weights(\"./model/weights.h5\")"
      ]
    },
    {
      "cell_type": "markdown",
      "metadata": {
        "id": "2nJDlyhgQFMm"
      },
      "source": [
        "## predict"
      ]
    },
    {
      "cell_type": "code",
      "execution_count": null,
      "metadata": {
        "id": "FP4iye4nQE5D"
      },
      "outputs": [],
      "source": [
        "import CaptchaCracker as cc\n",
        "\n",
        "# Target image data size\n",
        "img_width = 100\n",
        "img_height = 24\n",
        "# Target image label length\n",
        "max_length = 5\n",
        "# Target image label component\n",
        "characters = {'1', '2', '3', '4', '5', '6', '7', '8', '9', 'A', 'B', 'C', 'D', 'E', 'F', 'G', 'H', 'I', 'J', 'K', 'L', 'M', 'N', 'P', 'Q', 'R', 'S', 'T', 'U', 'V', 'W', 'X', 'Y', 'Z'}\n",
        "\n",
        "# Model weight file path\n",
        "weights_path = \"./model/weights.h5\"\n",
        "# Creating a model application instance\n",
        "AM = cc.ApplyModel(weights_path, img_width, img_height, max_length, characters)"
      ]
    },
    {
      "cell_type": "code",
      "execution_count": null,
      "metadata": {
        "colab": {
          "base_uri": "https://localhost:8080/"
        },
        "id": "_XbkySVvQDOZ",
        "outputId": "2ef044e9-6ce6-4e85-8c6b-d38c3e5337c9"
      },
      "outputs": [
        {
          "name": "stdout",
          "output_type": "stream",
          "text": [
            "1/1 [==============================] - 0s 66ms/step\n",
            "13SNX\n"
          ]
        }
      ],
      "source": [
        "# Target image path\n",
        "target_img_path = \"./test_dataset/13SNX.png\"\n",
        "\n",
        "# Predicted value\n",
        "pred = AM.predict(target_img_path)\n",
        "print(pred)"
      ]
    },
    {
      "cell_type": "code",
      "execution_count": null,
      "metadata": {
        "id": "ytV7cfm_SlPm"
      },
      "outputs": [],
      "source": [
        "import os\n",
        "\n",
        "detected = 0\n",
        "total = len(os.listdir('test_dataset'))\n",
        "\n",
        "for filename in os.listdir('test_dataset'):\n",
        "  full_filename = os.path.join('test_dataset', filename)\n",
        "\n",
        "  ans = filename[:-4]\n",
        "  if len(ans) != 5:\n",
        "    break\n",
        "\n",
        "  pred = AM.predict(full_filename)\n",
        "\n",
        "  if ans == pred:\n",
        "    detected += 1\n"
      ]
    },
    {
      "cell_type": "code",
      "execution_count": null,
      "metadata": {
        "colab": {
          "base_uri": "https://localhost:8080/"
        },
        "id": "E-_LAOpEUslF",
        "outputId": "83bb7b4e-b977-4029-fcf1-203fabf9a8b2"
      },
      "outputs": [
        {
          "name": "stdout",
          "output_type": "stream",
          "text": [
            "accuracy: 99.0%\n"
          ]
        }
      ],
      "source": [
        "print(f\"accuracy: {detected/total*100}%\")"
      ]
    },
    {
      "cell_type": "code",
      "execution_count": null,
      "metadata": {
        "id": "0ZyAaciEUJpa"
      },
      "outputs": [],
      "source": [
        "!cp model/weights.h5 drive/MyDrive/weights/weights.h5"
      ]
    }
  ],
  "metadata": {
    "accelerator": "GPU",
    "colab": {
      "provenance": []
    },
    "kernelspec": {
      "display_name": "Python 3",
      "name": "python3"
    },
    "language_info": {
      "name": "python"
    }
  },
  "nbformat": 4,
  "nbformat_minor": 0
}